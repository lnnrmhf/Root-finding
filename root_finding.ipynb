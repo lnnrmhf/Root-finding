{
 "cells": [
  {
   "cell_type": "markdown",
   "metadata": {},
   "source": [
    "# Comparison of mutliple root finding methods "
   ]
  },
  {
   "cell_type": "code",
   "execution_count": 34,
   "metadata": {},
   "outputs": [
    {
     "data": {
      "image/png": "[encoded data removed]",
      "text/plain": [
       "<Figure size 640x480 with 1 Axes>"
      ]
     },
     "metadata": {},
     "output_type": "display_data"
    }
   ],
   "source": [
    "import numpy as np\n",
    "import matplotlib.pyplot as plt\n",
    "import scipy\n",
    "from sympy import symbols, lambdify, diff, exp, cos\n",
    "\n",
    "#define a function using sympy\n",
    "x = symbols('x')\n",
    "function = lambdify(x, cos(x)*+2 + 5 - exp(x))\n",
    "df = lambdify(x, (cos(x)**2 + 5 - exp(x)).diff(x))\n",
    "\n",
    "#plot the function \n",
    "x_range = np.linspace(0, 2, 100)\n",
    "plt.plot(x_range, function(x_range), color=\"purple\")\n",
    "plt.title(\"Function to find root of\")\n",
    "plt.xlabel(\"x\")\n",
    "plt.ylabel(\"y\")\n",
    "plt.grid()\n",
    "plt.show()"
   ]
  },
  {
   "cell_type": "markdown",
   "metadata": {},
   "source": [
    "### Bisection method"
   ]
  },
  {
   "cell_type": "code",
   "execution_count": 38,
   "metadata": {},
   "outputs": [
    {
     "name": "stdout",
     "output_type": "stream",
     "text": [
      "Root using the bisection method:  1.5983547474406805\n",
      "Number of iterations needed:  41\n",
      "Root using built-in function:  1.5983547474406805\n",
      "Number of iterations needed:  41\n"
     ]
    }
   ],
   "source": [
    "#set a and b as the minimum and maximum value x can have \n",
    "a = -1\n",
    "b = 3\n",
    "\n",
    "#handwritten\n",
    "def bisection_method(f, a, b, tolerance=1e-12, max_iterations=100): \n",
    "    i = 0\n",
    "    x_m = (a+b)/2 #define initial middle point \n",
    "\n",
    "    while (b - a) / 2 > tolerance and i < max_iterations: #run through the loop until the distance between b and a is small enough and the number of iterations big enough\n",
    "        x_m = (a+b)/2 #calculate x_m\n",
    "        if (f(x_m) * f(a) < 0): #if this is true the root must be further on the left\n",
    "            b = x_m #make interval smaller and go back to calculating new x_m\n",
    "        else: #the root must be further on the right\n",
    "            a = x_m #make interval smaller and go back to calculating new x_m\n",
    "        i = i + 1 #add 1 to counter\n",
    "    print(\"Root using the bisection method: \", x_m) #print root when f(x_m) = 0 or close enough\n",
    "    print(\"Number of iterations needed: \", i) #print number of iterations it took to get to result\n",
    "\n",
    "bisection_method(function, a, b)\n",
    "\n",
    "\n",
    "#built in\n",
    "from scipy.optimize import root_scalar\n",
    "\n",
    "root = root_scalar(function, method='bisect', bracket=[a, b])\n",
    "print(\"Root using built-in function: \", root.root)\n",
    "print(\"Number of iterations needed: \", root.iterations)"
   ]
  },
  {
   "cell_type": "markdown",
   "metadata": {},
   "source": [
    "### Secant method"
   ]
  },
  {
   "cell_type": "code",
   "execution_count": 39,
   "metadata": {},
   "outputs": [
    {
     "name": "stdout",
     "output_type": "stream",
     "text": [
      "Root using the secant method:  1.5983547474391464\n",
      "Number of iterations needed:  10\n",
      "Root using built-in function:  1.598354747439146\n",
      "Number of iterations needed:  10\n"
     ]
    }
   ],
   "source": [
    "#handwritten\n",
    "def secant_method(f, a, b, tolerance=1e-12, max_iterations=1000):\n",
    "    i = 0\n",
    "    x_r = b - f(b)/(f(b)-f(a)) * (b-a) #root of initial secant between point a and b\n",
    "\n",
    "    while abs(f(x_r)) > tolerance: #proceed until f(x_r) is 0 or close enough \n",
    "        x_r = b - f(b)/(f(b)-f(a)) * (b-a) #calculate root between points\n",
    "        a = b #change point a to b\n",
    "        b = x_r #change b to x_r\n",
    "        i = i + 1 #add 1 to counter\n",
    "    \n",
    "    print(\"Root using the secant method: \", x_r) #print root when f(x_r) = 0 or close enough\n",
    "    print(\"Number of iterations needed: \", i) #print number of iterations it took to get to result\n",
    "\n",
    "secant_method(function, a, b)\n",
    "\n",
    "#built in \n",
    "from scipy.optimize import root_scalar\n",
    "\n",
    "root = root_scalar(function, method='secant', x0 = a, x1 = b)\n",
    "print(\"Root using built-in function: \", root.root)\n",
    "print(\"Number of iterations needed: \", root.iterations)"
   ]
  },
  {
   "cell_type": "markdown",
   "metadata": {},
   "source": [
    "### False position method"
   ]
  },
  {
   "cell_type": "code",
   "execution_count": 40,
   "metadata": {},
   "outputs": [
    {
     "name": "stdout",
     "output_type": "stream",
     "text": [
      "Root using the false position method:  1.5983547474390145\n",
      "Number of iterations needed:  37\n",
      "Root using built-in function:  1.5983547474391404\n",
      "Number of iterations:  9\n"
     ]
    }
   ],
   "source": [
    "def false_position_method(f, a, b, tolerance=1e-12, max_iterations=1000):\n",
    "    i = 0 #set the iteration counte to 0\n",
    "    x_r = b - f(b)/(f(b)-f(a)) * (b-a) #root of initial secant between point a and b\n",
    "    # x_r = x, b = x_n-1, a = x_n-2\n",
    "    # a = x_1, b = x_2 -> x_3\n",
    "\n",
    "    while abs(f(x_r)) > tolerance and i < max_iterations: #stop the loop when f(x_r) is close enough to 0 and the number of iterations is high enough\n",
    "        x_r = b - f(b)/(f(b)-f(a)) * (b-a) #calculate x_r\n",
    "        if f(a) * f(x_r) < 0: \n",
    "            b = x_r #change the interval \n",
    "            i = i + 1 #update the iteration counter\n",
    "        else: \n",
    "            a = x_r #change the interal\n",
    "            i = i + 1 #update the iteration counter\n",
    "\n",
    "    print(\"Root using the false position method: \", x_r) #print root when f(x_r) = 0 or close enough\n",
    "    print(\"Number of iterations needed: \", i) #print number of iterations it took to get to result\n",
    "\n",
    "false_position_method(function, a, b)\n",
    "\n",
    "#built in\n",
    "from scipy.optimize import root_scalar\n",
    "\n",
    "#there is no false position method as such but brentq uses an algorithm similar to it\n",
    "result = root_scalar(function, method='brentq', bracket=[a, b])\n",
    "\n",
    "print(\"Root using built-in function: \", result.root)\n",
    "print(\"Number of iterations: \", result.iterations)"
   ]
  },
  {
   "cell_type": "markdown",
   "metadata": {},
   "source": [
    "### Newton-Raphson method"
   ]
  },
  {
   "cell_type": "code",
   "execution_count": 43,
   "metadata": {},
   "outputs": [
    {
     "name": "stdout",
     "output_type": "stream",
     "text": [
      "Root using the Newton-Raphson method:  1.5983547474392807\n",
      "Number of iterations needed:  33\n",
      "Root using built in function:  1.5983547449943618\n",
      "Number of iterations needed:  47\n"
     ]
    }
   ],
   "source": [
    "#handwritten\n",
    "def newton_raphson_method(f, a, b, tolerance=1e-12, max_iterations=1000):\n",
    "    i = 0 #set iteration counter to 0\n",
    "    x_r = b - f(b)/df(b) #calculate first estimate of the root\n",
    "\n",
    "    while abs(f(x_r)) > tolerance:\n",
    "        if i >= max_iterations:  #stop if the maximum number of iterations has been reached\n",
    "            print(\"Too many interations, the root may never converge.\")\n",
    "            break #stop loop \n",
    "        x_r = b - f(b)/df(b) #update the root estimate\n",
    "        b = x_r #update the guess\n",
    "        i = i + 1 #update the iteration counter\n",
    "\n",
    "    print(\"Root using the Newton-Raphson method: \", x_r) #print root when f(x_r) = 0 or close enough\n",
    "    print(\"Number of iterations needed: \", i) #print number of iterations it took to get to result\n",
    "\n",
    "newton_raphson_method(function, a, b)\n",
    "\n",
    "#built in \n",
    "from scipy.optimize import root_scalar\n",
    "\n",
    "root = root_scalar(function, method='newton', fprime=df, x0 = a, x1 = b)\n",
    "\n",
    "print(\"Root using built in function: \", root.root)\n",
    "print(\"Number of iterations needed: \", root.iterations)\n"
   ]
  }
 ],
 "metadata": {
  "kernelspec": {
   "display_name": ".venv",
   "language": "python",
   "name": "python3"
  },
  "language_info": {
   "codemirror_mode": {
    "name": "ipython",
    "version": 3
   },
   "file_extension": ".py",
   "mimetype": "text/x-python",
   "name": "python",
   "nbconvert_exporter": "python",
   "pygments_lexer": "ipython3",
   "version": "3.13.0"
  }
 },
 "nbformat": 4,
 "nbformat_minor": 2
}
